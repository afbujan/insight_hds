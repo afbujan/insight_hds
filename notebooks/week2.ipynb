{
 "cells": [
  {
   "cell_type": "code",
   "execution_count": 60,
   "metadata": {
    "collapsed": false
   },
   "outputs": [
    {
     "data": {
      "text/plain": [
       "<module 'insight_hds.tools.words' from '/home/bujan/storage/development/insight_hds/tools/words.pyc'>"
      ]
     },
     "execution_count": 60,
     "metadata": {},
     "output_type": "execute_result"
    }
   ],
   "source": [
    "from __future__ import division\n",
    "import os,time,pdb\n",
    "import numpy as np\n",
    "\n",
    "from sklearn.decomposition import NMF, LatentDirichletAllocation\n",
    "    \n",
    "#scikit-learn\n",
    "from sklearn.decomposition import PCA\n",
    "from sklearn.linear_model import SGDClassifier,LogisticRegression,Perceptron\n",
    "from sklearn.svm import LinearSVC\n",
    "from sklearn.cross_validation import train_test_split\n",
    "from sklearn import metrics\n",
    "\n",
    "from insight_hds.preprocessing import datasets\n",
    "reload(datasets) \n",
    "from insight_hds.tools import words\n",
    "reload(words)"
   ]
  },
  {
   "cell_type": "markdown",
   "metadata": {
    "collapsed": true
   },
   "source": [
    "## Get TF-IDFs from Reddit"
   ]
  },
  {
   "cell_type": "code",
   "execution_count": 37,
   "metadata": {
    "collapsed": true
   },
   "outputs": [],
   "source": [
    "subreddits = ['schizophrenia', 'depression', 'bipolar']"
   ]
  },
  {
   "cell_type": "code",
   "execution_count": 43,
   "metadata": {
    "collapsed": false
   },
   "outputs": [
    {
     "name": "stdout",
     "output_type": "stream",
     "text": [
      "\n",
      "998 comments from subreddit: schizophrenia fetched!\n",
      "\n",
      "953 comments from subreddit: depression fetched!\n",
      "\n",
      "999 comments from subreddit: bipolar fetched!\n"
     ]
    }
   ],
   "source": [
    "X, y = datasets.scrape_comments(subreddits)"
   ]
  },
  {
   "cell_type": "markdown",
   "metadata": {},
   "source": [
    "### Example text"
   ]
  },
  {
   "cell_type": "code",
   "execution_count": 49,
   "metadata": {
    "collapsed": false
   },
   "outputs": [
    {
     "data": {
      "text/plain": [
       "u\"I had a major surgery last month and when I was told I'd be forced to go off my clozapine I was pretty concerned.  But I had no symptoms what so ever thankfully.\\n\\nAnyway, I'm sure they didn't put worms in your wound.  \""
      ]
     },
     "execution_count": 49,
     "metadata": {},
     "output_type": "execute_result"
    }
   ],
   "source": [
    "X[0]"
   ]
  },
  {
   "cell_type": "markdown",
   "metadata": {},
   "source": [
    "# Feature engineering (TF, TF-IDF) "
   ]
  },
  {
   "cell_type": "code",
   "execution_count": 68,
   "metadata": {
    "collapsed": false
   },
   "outputs": [],
   "source": [
    "X_tfidf, names_tfidf = datasets.get_tfidf(X)"
   ]
  },
  {
   "cell_type": "code",
   "execution_count": null,
   "metadata": {
    "collapsed": true
   },
   "outputs": [],
   "source": [
    "X_tf, names_tf = datasets.get_tf(X)"
   ]
  },
  {
   "cell_type": "markdown",
   "metadata": {},
   "source": [
    "# Unsupervised learning with NMF and LDA"
   ]
  },
  {
   "cell_type": "code",
   "execution_count": 73,
   "metadata": {
    "collapsed": false
   },
   "outputs": [],
   "source": [
    "nmf = NMF(n_components=len(subreddits)).fit(X_tfidf)"
   ]
  },
  {
   "cell_type": "code",
   "execution_count": 74,
   "metadata": {
    "collapsed": false
   },
   "outputs": [
    {
     "name": "stdout",
     "output_type": "stream",
     "text": [
      "Topic #0:\n",
      "you to your are if re can that be do\n",
      "Topic #1:\n",
      "and to the it my of me that was in\n",
      "Topic #2:\n",
      "thanks for sharing lot okay will ll tip mate thank\n"
     ]
    }
   ],
   "source": [
    "words.print_top_words(nmf, names_tfidf, 10)"
   ]
  },
  {
   "cell_type": "code",
   "execution_count": 78,
   "metadata": {
    "collapsed": false
   },
   "outputs": [],
   "source": [
    "lda = LatentDirichletAllocation(n_topics=len(subreddits)).fit(X_tf)"
   ]
  },
  {
   "cell_type": "code",
   "execution_count": 79,
   "metadata": {
    "collapsed": false
   },
   "outputs": [
    {
     "name": "stdout",
     "output_type": "stream",
     "text": [
      "Topic #0:\n",
      "seroquel www com kratom http https gained carbs doses watch\n",
      "Topic #1:\n",
      "to and the you it that of my is in\n",
      "Topic #2:\n",
      "my its for been thanks depression thank helped or pizza\n"
     ]
    }
   ],
   "source": [
    "words.print_top_words(lda, names_tf, 10)"
   ]
  },
  {
   "cell_type": "markdown",
   "metadata": {},
   "source": [
    "# Supervised learning with Softmax"
   ]
  },
  {
   "cell_type": "code",
   "execution_count": 86,
   "metadata": {
    "collapsed": true
   },
   "outputs": [],
   "source": [
    "X_train, X_test, y_train, y_test = train_test_split(X_tfidf, y, test_size=0.20, random_state=42)"
   ]
  },
  {
   "cell_type": "code",
   "execution_count": 106,
   "metadata": {
    "collapsed": false
   },
   "outputs": [
    {
     "data": {
      "text/plain": [
       "LinearSVC(C=0.01, class_weight=None, dual=True, fit_intercept=True,\n",
       "     intercept_scaling=1, loss='squared_hinge', max_iter=1000,\n",
       "     multi_class='ovr', penalty='l2', random_state=None, tol=0.0001,\n",
       "     verbose=0)"
      ]
     },
     "execution_count": 106,
     "metadata": {},
     "output_type": "execute_result"
    }
   ],
   "source": [
    "svc = LinearSVC(C=1e-2)\n",
    "svc.fit(X_train, y_train)"
   ]
  },
  {
   "cell_type": "code",
   "execution_count": 107,
   "metadata": {
    "collapsed": false
   },
   "outputs": [
    {
     "name": "stdout",
     "output_type": "stream",
     "text": [
      "               precision    recall  f1-score   support\n",
      "\n",
      "schizophrenia       0.72      0.41      0.52       209\n",
      "   depression       0.59      0.54      0.57       193\n",
      "      bipolar       0.45      0.70      0.55       188\n",
      "\n",
      "  avg / total       0.59      0.55      0.55       590\n",
      "\n"
     ]
    }
   ],
   "source": [
    "print(metrics.classification_report(y_test, svc.predict(X_test),target_names=subreddits))"
   ]
  },
  {
   "cell_type": "code",
   "execution_count": 108,
   "metadata": {
    "collapsed": false
   },
   "outputs": [
    {
     "name": "stdout",
     "output_type": "stream",
     "text": [
      "               precision    recall  f1-score   support\n",
      "\n",
      "schizophrenia       0.83      0.63      0.72       789\n",
      "   depression       0.73      0.66      0.69       760\n",
      "      bipolar       0.62      0.82      0.71       811\n",
      "\n",
      "  avg / total       0.72      0.71      0.71      2360\n",
      "\n"
     ]
    }
   ],
   "source": [
    "print(metrics.classification_report(y_train, svc.predict(X_train),target_names=subreddits))"
   ]
  },
  {
   "cell_type": "code",
   "execution_count": 109,
   "metadata": {
    "collapsed": false
   },
   "outputs": [],
   "source": [
    "best_words = np.array(names_tfidf)[np.argsort(clf.coef_,axis=1)[:,:10]]"
   ]
  },
  {
   "cell_type": "code",
   "execution_count": 110,
   "metadata": {
    "collapsed": false
   },
   "outputs": [
    {
     "data": {
      "text/plain": [
       "array([[u'depression', u'bipolar', u'all', u'up', u'so', u'yourself',\n",
       "        u'die', u're', u'felt', u'hate'],\n",
       "       [u'meds', u'bipolar', u'schizophrenia', u'symptoms', u'was', u'had',\n",
       "        u'illness', u'mental', u'psychiatrist', u'voices'],\n",
       "       [u'schizophrenia', u'someone', u'voices', u'just', u'believe',\n",
       "        u'things', u'is', u'birthday', u'feel', u'there']], \n",
       "      dtype='<U46')"
      ]
     },
     "execution_count": 110,
     "metadata": {},
     "output_type": "execute_result"
    }
   ],
   "source": [
    "best_words"
   ]
  },
  {
   "cell_type": "code",
   "execution_count": 128,
   "metadata": {
    "collapsed": false
   },
   "outputs": [
    {
     "data": {
      "text/plain": [
       "SGDClassifier(alpha=0.01, average=False, class_weight=None, epsilon=0.1,\n",
       "       eta0=0.0, fit_intercept=True, l1_ratio=0.15,\n",
       "       learning_rate='optimal', loss='log', n_iter=5, n_jobs=1,\n",
       "       penalty='l2', power_t=0.5, random_state=None, shuffle=True,\n",
       "       verbose=0, warm_start=False)"
      ]
     },
     "execution_count": 128,
     "metadata": {},
     "output_type": "execute_result"
    }
   ],
   "source": [
    "sgdcl = SGDClassifier(alpha=1e-2,loss='log')\n",
    "sgdcl.fit(X_train, y_train)   "
   ]
  },
  {
   "cell_type": "code",
   "execution_count": 129,
   "metadata": {
    "collapsed": false
   },
   "outputs": [
    {
     "name": "stdout",
     "output_type": "stream",
     "text": [
      "               precision    recall  f1-score   support\n",
      "\n",
      "schizophrenia       0.67      0.49      0.57       209\n",
      "   depression       0.53      0.63      0.57       193\n",
      "      bipolar       0.52      0.57      0.54       188\n",
      "\n",
      "  avg / total       0.57      0.56      0.56       590\n",
      "\n"
     ]
    }
   ],
   "source": [
    "print(metrics.classification_report(y_test, sgdcl.predict(X_test),target_names=subreddits))"
   ]
  },
  {
   "cell_type": "code",
   "execution_count": 120,
   "metadata": {
    "collapsed": false
   },
   "outputs": [
    {
     "name": "stdout",
     "output_type": "stream",
     "text": [
      "               precision    recall  f1-score   support\n",
      "\n",
      "schizophrenia       0.96      0.84      0.89       789\n",
      "   depression       0.83      0.94      0.88       760\n",
      "      bipolar       0.90      0.90      0.90       811\n",
      "\n",
      "  avg / total       0.90      0.89      0.89      2360\n",
      "\n"
     ]
    }
   ],
   "source": [
    "print(metrics.classification_report(y_train, sgdcl.predict(X_train),target_names=subreddits))"
   ]
  },
  {
   "cell_type": "code",
   "execution_count": 125,
   "metadata": {
    "collapsed": false
   },
   "outputs": [
    {
     "data": {
      "text/plain": [
       "array([[ 0.49359244,  0.2551134 ,  0.25129416],\n",
       "       [ 0.45119834,  0.22913429,  0.31966736],\n",
       "       [ 0.33141141,  0.26629779,  0.4022908 ],\n",
       "       ..., \n",
       "       [ 0.25704126,  0.49549784,  0.24746091],\n",
       "       [ 0.22796095,  0.23451956,  0.5375195 ],\n",
       "       [ 0.24829915,  0.510698  ,  0.24100284]])"
      ]
     },
     "execution_count": 125,
     "metadata": {},
     "output_type": "execute_result"
    }
   ],
   "source": [
    "sgdcl.predict_proba(X_test)"
   ]
  },
  {
   "cell_type": "markdown",
   "metadata": {},
   "source": [
    "# Keras (LSTMs, WordEmbedding)"
   ]
  },
  {
   "cell_type": "code",
   "execution_count": 130,
   "metadata": {
    "collapsed": false
   },
   "outputs": [
    {
     "name": "stderr",
     "output_type": "stream",
     "text": [
      "Using Theano backend.\n"
     ]
    }
   ],
   "source": [
    "from __future__ import print_function\n",
    "import numpy as np\n",
    "np.random.seed(1337)  # for reproducibility\n",
    "\n",
    "from keras.preprocessing import sequence\n",
    "from keras.utils import np_utils\n",
    "from keras.models import Sequential\n",
    "from keras.layers import Dense, Dropout, Activation, Embedding\n",
    "from keras.layers import LSTM, SimpleRNN, GRU\n",
    "from keras.datasets import imdb"
   ]
  },
  {
   "cell_type": "code",
   "execution_count": 163,
   "metadata": {
    "collapsed": true
   },
   "outputs": [],
   "source": [
    "max_features = 20000\n",
    "maxlen = 500\n",
    "batch_size = 32"
   ]
  },
  {
   "cell_type": "code",
   "execution_count": 158,
   "metadata": {
    "collapsed": false
   },
   "outputs": [],
   "source": [
    "X_tfidf, names_tfidf = datasets.get_tfidf(X,{'max_features':max_features})"
   ]
  },
  {
   "cell_type": "code",
   "execution_count": 159,
   "metadata": {
    "collapsed": true
   },
   "outputs": [],
   "source": [
    "X_train, X_test, y_train, y_test = train_test_split(X_tfidf, y, test_size=0.20, random_state=42)"
   ]
  },
  {
   "cell_type": "code",
   "execution_count": 160,
   "metadata": {
    "collapsed": false
   },
   "outputs": [],
   "source": [
    "X_pd_train = sequence.pad_sequences(X_train.toarray(), maxlen=maxlen)"
   ]
  },
  {
   "cell_type": "code",
   "execution_count": 161,
   "metadata": {
    "collapsed": false
   },
   "outputs": [],
   "source": [
    "X_pd_test = sequence.pad_sequences(X_test.toarray(), maxlen=maxlen)"
   ]
  },
  {
   "cell_type": "code",
   "execution_count": null,
   "metadata": {
    "collapsed": false
   },
   "outputs": [
    {
     "name": "stdout",
     "output_type": "stream",
     "text": [
      "Build model...\n",
      "Train...\n",
      "Train on 2360 samples, validate on 590 samples\n",
      "Epoch 1/15\n"
     ]
    }
   ],
   "source": [
    "print('Build model...')\n",
    "model = Sequential()\n",
    "model.add(Embedding(max_features, 128, dropout=0.2))\n",
    "model.add(LSTM(128, dropout_W=0.2, dropout_U=0.2))\n",
    "model.add(Dense(1))\n",
    "model.add(Activation('sigmoid'))\n",
    "\n",
    "model.compile(loss='binary_crossentropy',\n",
    "              optimizer='adam',\n",
    "              metrics=['accuracy'])\n",
    "\n",
    "print('Train...')\n",
    "model.fit(X_train.toarray(), y_train, batch_size=batch_size, nb_epoch=15,\n",
    "          validation_data=(X_test.toarray(), y_test))\n",
    "score, acc = model.evaluate(X_test.toarray(), y_test,\n",
    "                            batch_size=batch_size)\n",
    "print('Test score:', score)\n",
    "print('Test accuracy:', acc)"
   ]
  }
 ],
 "metadata": {
  "kernelspec": {
   "display_name": "Python 2",
   "language": "python",
   "name": "python2"
  },
  "language_info": {
   "codemirror_mode": {
    "name": "ipython",
    "version": 2
   },
   "file_extension": ".py",
   "mimetype": "text/x-python",
   "name": "python",
   "nbconvert_exporter": "python",
   "pygments_lexer": "ipython2",
   "version": "2.7.11"
  }
 },
 "nbformat": 4,
 "nbformat_minor": 0
}
