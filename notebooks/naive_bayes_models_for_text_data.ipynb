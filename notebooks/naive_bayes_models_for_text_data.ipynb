{
 "cells": [
  {
   "cell_type": "markdown",
   "metadata": {},
   "source": [
    "# Imports"
   ]
  },
  {
   "cell_type": "code",
   "execution_count": 136,
   "metadata": {
    "collapsed": false
   },
   "outputs": [],
   "source": [
    "from __future__ import division\n",
    "import os,time,pdb\n",
    "import numpy as np\n",
    "from itertools import cycle\n",
    "\n",
    "#scikit-learn\n",
    "from sklearn.cross_validation import train_test_split\n",
    "from sklearn import metrics\n",
    "from sklearn.feature_extraction.text import CountVectorizer\n",
    "from sklearn.naive_bayes import MultinomialNB, BernoulliNB\n",
    "from sklearn.metrics import roc_curve, auc\n",
    "\n",
    "#nlp\n",
    "import nltk, re, pprint\n",
    "from nltk.stem import *\n",
    "from nltk.stem.snowball import SnowballStemmer\n",
    "stemmer = SnowballStemmer(\"english\")\n",
    "from nltk import word_tokenize\n",
    "from nltk.corpus import stopwords\n",
    "stop = stopwords.words('english')\n",
    "from bs4 import BeautifulSoup\n",
    "from nltk.tokenize import RegexpTokenizer\n",
    "tokenizer = RegexpTokenizer(r'\\w+')\n",
    "\n",
    "#plotting\n",
    "import matplotlib as mpl\n",
    "import matplotlib.pyplot as plt\n",
    "\n",
    "# Enable inline plotting\n",
    "%matplotlib inline\n",
    "# Set some default plotting parameters\n",
    "mpl.rcParams['image.aspect'] = 'auto'\n",
    "mpl.rcParams['image.interpolation'] = 'nearest'\n",
    "mpl.rcParams['image.cmap'] = 'gray'\n",
    "mpl.rcParams['figure.figsize'] = (10, 10)\n",
    "mpl.rcParams['xtick.labelsize'] = 10\n",
    "mpl.rcParams['ytick.labelsize'] = 10\n",
    "mpl.rcParams['axes.labelsize']  = 18\n",
    "mpl.rcParams['legend.fontsize'] = 18"
   ]
  },
  {
   "cell_type": "markdown",
   "metadata": {},
   "source": [
    "# Helper functions"
   ]
  },
  {
   "cell_type": "code",
   "execution_count": 31,
   "metadata": {
    "collapsed": false
   },
   "outputs": [],
   "source": [
    "def tokenize_it(text_list):\n",
    "    return tokenizer.tokenize(text_list)\n",
    "    #word_tokenize(text_list)\n",
    "\n",
    "def stem_list(word_list):  \n",
    "    words = tokenize_it(word_list)\n",
    "    stem_list = []\n",
    "    for word in words:\n",
    "        if word not in stop :\n",
    "            stem_list.append(stemmer.stem(word.lower()))\n",
    "    return stem_list"
   ]
  },
  {
   "cell_type": "markdown",
   "metadata": {},
   "source": [
    "# Scrape the data from Reddit"
   ]
  },
  {
   "cell_type": "code",
   "execution_count": 4,
   "metadata": {
    "collapsed": false
   },
   "outputs": [
    {
     "name": "stdout",
     "output_type": "stream",
     "text": [
      "Version 3.5.0 of praw is outdated. Version 4.2.0 was released Saturday January 07, 2017.\n",
      "\n",
      "996 comments from subreddit: schizophrenia fetched!\n",
      "\n",
      "929 comments from subreddit: depression fetched!\n"
     ]
    }
   ],
   "source": [
    "subreddits = ['schizophrenia', 'depression']\n",
    "X, y = datasets.scrape_comments(subreddits)\n",
    "y-=1#to make it a binary vector"
   ]
  },
  {
   "cell_type": "markdown",
   "metadata": {},
   "source": [
    "# Create the dictionary"
   ]
  },
  {
   "cell_type": "code",
   "execution_count": 45,
   "metadata": {
    "collapsed": false
   },
   "outputs": [],
   "source": [
    "vocabulary = {}\n",
    "idx = 0\n",
    "for i in xrange(len(X)):\n",
    "    words = stem_list(X[i])\n",
    "    for word in words:\n",
    "        if word not in vocabulary:\n",
    "            vocabulary[word]=idx\n",
    "            idx+=1\n",
    "v = len(vocabulary.keys())"
   ]
  },
  {
   "cell_type": "markdown",
   "metadata": {},
   "source": [
    "# Multivariate Bernoulli NB event model"
   ]
  },
  {
   "cell_type": "markdown",
   "metadata": {},
   "source": [
    "# Transform text to binary vectors (bag of words or BOW)"
   ]
  },
  {
   "cell_type": "code",
   "execution_count": 113,
   "metadata": {
    "collapsed": false
   },
   "outputs": [],
   "source": [
    "cv = CountVectorizer(vocabulary=vocabulary,binary=True)\n",
    "X_cv = cv.fit_transform(X)"
   ]
  },
  {
   "cell_type": "markdown",
   "metadata": {},
   "source": [
    "# Train test split"
   ]
  },
  {
   "cell_type": "code",
   "execution_count": 114,
   "metadata": {
    "collapsed": false
   },
   "outputs": [],
   "source": [
    "idx = np.random.permutation(np.arange(len(X_c)))\n",
    "X_c, y = X_c[idx], y[idx]\n",
    "split = .8\n",
    "train = int(np.floor(len(X_c)*split))\n",
    "X_train, X_test, y_train, y_test = X_c[:train], X_c[train:], y[:train], y[train:]"
   ]
  },
  {
   "cell_type": "markdown",
   "metadata": {},
   "source": [
    "# Compute the prior probabilities $p(y=j)$"
   ]
  },
  {
   "cell_type": "markdown",
   "metadata": {},
   "source": [
    "The maximum likelihood (ML) estimator of the prior probabilities for different types of documents is simply the ratio of documents of that type over the total number of documents in the training set."
   ]
  },
  {
   "cell_type": "code",
   "execution_count": 122,
   "metadata": {
    "collapsed": false
   },
   "outputs": [],
   "source": [
    "m = X_train.shape[0]\n",
    "m0 = X_train[np.where(y_train==0)].shape[0]\n",
    "m1 = X_train[np.where(y_train==1)].shape[0]\n",
    "\n",
    "p_y0 = m0/m\n",
    "p_y1 = m1/m"
   ]
  },
  {
   "cell_type": "markdown",
   "metadata": {},
   "source": [
    "# Compute the likelihood probabilities $p(x_i=1|y=j)$ "
   ]
  },
  {
   "cell_type": "markdown",
   "metadata": {},
   "source": [
    "According to the Naive Bayes assumption (the probability of a feature, a word in this case, is independent of the other features given the class, conditional independence):\n",
    "\\begin{equation*}\n",
    "p(x|j=j) = p(x_1,x_2,...,x_{|V|}|y=j) = \\prod_{i=1}^{|V|}p(x_i|y=j) = \\prod_{i=1}^{|V|}\\Theta_{i|y=j}\n",
    "\\end{equation*}\n",
    "\n",
    "The ML estimator of the likelihood probabilities $p(x_{i}=1|y=j)$ is the number of documents of class $j$ that contain $x_i$ over all the documents of class $j$ in the training set. To avoid likelihood probabilities that are zero for words that do not appear in the training set, we use a technique called <i>Laplace smoothing</i>, which consists in adding a 1 to the nominator and $j=2$ to the denominator."
   ]
  },
  {
   "cell_type": "code",
   "execution_count": 116,
   "metadata": {
    "collapsed": false
   },
   "outputs": [],
   "source": [
    "Theta = np.zeros((len(vocabulary),2))\n",
    "Theta[:,0] = (X_train[np.where(y_train==0)].sum(0)+1)/(m0+2)\n",
    "Theta[:,1] = (X_train[np.where(y_train==1)].sum(0)+1)/(m1+2)"
   ]
  },
  {
   "cell_type": "markdown",
   "metadata": {},
   "source": [
    "# Compute the posterior probabilities $p(y=j|x)$"
   ]
  },
  {
   "cell_type": "markdown",
   "metadata": {},
   "source": [
    "According to Bayes' rule:\n",
    "\\begin{equation*}\n",
    "p(y=j|x) = \\frac{p(x|y=j)p(y=j)}{p(x)} = \\frac{p(x|y=j)p(y=j)}{\\sum_{j=1}^{m}p(x|y=j)p(y=j)}\n",
    "\\end{equation*}\n"
   ]
  },
  {
   "cell_type": "code",
   "execution_count": 117,
   "metadata": {
    "collapsed": false,
    "scrolled": true
   },
   "outputs": [],
   "source": [
    "p_y_x = np.ones((X_test.shape[0],2))\n",
    "p_y_x[:,0]*= p_y0\n",
    "p_y_x[:,1]*= p_y1\n",
    "for i in xrange(X_test.shape[0]):\n",
    "    for j in xrange(X_test.shape[1]):\n",
    "        p_y_x[i,0]*= (1-X_test[i,j])*(1-Theta[j,0]) + X_test[i,j]*Theta[j,0]\n",
    "        p_y_x[i,1]*= (1-X_test[i,j])*(1-Theta[j,1]) + X_test[i,j]*Theta[j,1]\n",
    "        d = p_y_x[i,0]+p_y_x[i,1]\n",
    "        p_y_x[i,0]/=d\n",
    "        p_y_x[i,1]/=d"
   ]
  },
  {
   "cell_type": "markdown",
   "metadata": {},
   "source": [
    "# Evaluation of the multivariate Bernoulli NB model"
   ]
  },
  {
   "cell_type": "code",
   "execution_count": 118,
   "metadata": {
    "collapsed": false
   },
   "outputs": [
    {
     "name": "stdout",
     "output_type": "stream",
     "text": [
      "               precision    recall  f1-score   support\n",
      "\n",
      "schizophrenia       0.79      0.61      0.69       206\n",
      "   depression       0.65      0.82      0.72       179\n",
      "\n",
      "  avg / total       0.72      0.71      0.70       385\n",
      "\n"
     ]
    }
   ],
   "source": [
    "print(metrics.classification_report(y_test, np.argmax(p_y_x,1),target_names=subreddits))"
   ]
  },
  {
   "cell_type": "code",
   "execution_count": 134,
   "metadata": {
    "collapsed": false
   },
   "outputs": [],
   "source": [
    "fpr={}\n",
    "tpr={}\n",
    "roc_auc = {}\n",
    "for i in xrange(2):\n",
    "    if i==0:\n",
    "        fpr[i], tpr[i], _ = roc_curve(1-y_test,p_y_x[:,i])\n",
    "    else:\n",
    "        fpr[i], tpr[i], _ = roc_curve(y_test,p_y_x[:,i])\n",
    "    roc_auc[i] = auc(fpr[i],tpr[i])"
   ]
  },
  {
   "cell_type": "code",
   "execution_count": 137,
   "metadata": {
    "collapsed": false
   },
   "outputs": [
    {
     "data": {
      "image/png": "[encoded data removed]",
      "text/plain": [
       "<matplotlib.figure.Figure at 0x7f27208759d0>"
      ]
     },
     "metadata": {},
     "output_type": "display_data"
    }
   ],
   "source": [
    "plt.figure()\n",
    "lw = 2\n",
    "colors = cycle(['aqua', 'darkorange', 'cornflowerblue'])\n",
    "for i, color in zip(range(2), colors):\n",
    "    plt.plot(fpr[i], tpr[i], color=color, lw=lw,\n",
    "             label='ROC curve of class {0} (area = {1:0.2f})'\n",
    "             ''.format(subreddits[i], roc_auc[i]))\n",
    "plt.plot([0, 1], [0, 1], color='navy', lw=lw, linestyle='--')\n",
    "plt.xlim([0.0, 1.0])\n",
    "plt.ylim([0.0, 1.05])\n",
    "plt.xlabel(r'false positive rate ($\\alpha$)')\n",
    "plt.ylabel(r'true positive rate or power ($1-\\beta$)')\n",
    "plt.title('ROC curve')\n",
    "plt.legend(loc=\"lower right\")\n",
    "plt.show()"
   ]
  },
  {
   "cell_type": "code",
   "execution_count": 120,
   "metadata": {
    "collapsed": true
   },
   "outputs": [],
   "source": [
    "classifier = BernoulliNB(alpha=1.0, fit_prior=True, class_prior=None)"
   ]
  },
  {
   "cell_type": "code",
   "execution_count": 121,
   "metadata": {
    "collapsed": false
   },
   "outputs": [
    {
     "name": "stdout",
     "output_type": "stream",
     "text": [
      "               precision    recall  f1-score   support\n",
      "\n",
      "schizophrenia       0.83      0.61      0.70       206\n",
      "   depression       0.66      0.86      0.74       179\n",
      "\n",
      "  avg / total       0.75      0.72      0.72       385\n",
      "\n"
     ]
    }
   ],
   "source": [
    "print(metrics.classification_report(y_test, classifier.predict(X_test),target_names=subreddits))"
   ]
  }
 ],
 "metadata": {
  "kernelspec": {
   "display_name": "Python 2",
   "language": "python",
   "name": "python2"
  },
  "language_info": {
   "codemirror_mode": {
    "name": "ipython",
    "version": 2
   },
   "file_extension": ".py",
   "mimetype": "text/x-python",
   "name": "python",
   "nbconvert_exporter": "python",
   "pygments_lexer": "ipython2",
   "version": "2.7.11"
  }
 },
 "nbformat": 4,
 "nbformat_minor": 0
}
