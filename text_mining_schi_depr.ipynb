{
 "cells": [
  {
   "cell_type": "code",
   "execution_count": 2,
   "metadata": {
    "collapsed": false
   },
   "outputs": [],
   "source": [
    "from __future__ import division\n",
    "import os,time,pdb\n",
    "import numpy as np\n",
    "\n",
    "#web \n",
    "import urllib\n",
    "\n",
    "#reddit\n",
    "import praw\n",
    "\n",
    "#nlp\n",
    "import nltk, re, pprint\n",
    "from nltk.stem import *\n",
    "from nltk.stem.snowball import SnowballStemmer\n",
    "from nltk import word_tokenize\n",
    "from bs4 import BeautifulSoup\n",
    "from bs4 import SoupStrainer\n",
    "stemmer = SnowballStemmer(\"english\")\n",
    "\n",
    "#scikit-learn\n",
    "from sklearn.decomposition import PCA\n",
    "from sklearn.feature_extraction.text import CountVectorizer\n",
    "from sklearn.feature_extraction.text import TfidfTransformer\n",
    "from sklearn.datasets import fetch_20newsgroups\n",
    "from sklearn import manifold\n",
    "\n",
    "#plotting\n",
    "import matplotlib as mpl\n",
    "import matplotlib.pyplot as plt\n",
    "\n",
    "# Enable inline plotting\n",
    "%matplotlib inline\n",
    "# Set some default plotting parameters\n",
    "mpl.rcParams['image.aspect'] = 'auto'\n",
    "mpl.rcParams['image.interpolation'] = 'nearest'\n",
    "mpl.rcParams['image.cmap'] = 'gray'\n",
    "mpl.rcParams['figure.figsize'] = (6, 6)\n",
    "mpl.rcParams['xtick.labelsize'] = 12\n",
    "mpl.rcParams['ytick.labelsize'] = 12\n",
    "mpl.rcParams['axes.labelsize']  = 20\n",
    "mpl.rcParams['legend.fontsize'] = 20"
   ]
  },
  {
   "cell_type": "markdown",
   "metadata": {},
   "source": [
    "# Helper functions\n"
   ]
  },
  {
   "cell_type": "code",
   "execution_count": 10,
   "metadata": {
    "collapsed": true
   },
   "outputs": [],
   "source": [
    "def order_soup(url=None):\n",
    "    assert url is not None\n",
    "    r = urllib.urlopen(url).read()\n",
    "    return BeautifulSoup(r)\n",
    "\n",
    "def get_subreddit_comments(url=None, tag='main'):\n",
    "    soup = order_soup(url)\n",
    "    comments = soup.find_all(\"div\", class_= tag)\n",
    "    text_list = []\n",
    "    for node in comments:\n",
    "        text_list.append(''.join(node.findAll(text=True)))\n",
    "    return text_list\n",
    "\n",
    "def tokenize_it(text_list):\n",
    "    return word_tokenize(text_list)\n",
    "\n",
    "def stem_list(word_list):\n",
    "    mapstem = lambda x: stemmer.stem(x)    \n",
    "    tokens = tokenize_it(word_list)\n",
    "    stem_dep = map(mapstem,tokens)\n",
    "    \n",
    "def get_comments_from_url_list(url_list, tag, n=20, verbose=True):\n",
    "    text = []\n",
    "    for j in xrange(n):\n",
    "        for i in xrange(len(url_list)):\n",
    "            if verbose:\n",
    "                print url_list[i], j\n",
    "            comments = get_subreddit_comments(url=url_list[i],tag=tag)\n",
    "            text.extend(comments)\n",
    "        if len(text)!=0:\n",
    "            break\n",
    "    return text"
   ]
  },
  {
   "cell_type": "markdown",
   "metadata": {},
   "source": [
    "#Scrape comments from reddit "
   ]
  },
  {
   "cell_type": "code",
   "execution_count": 4,
   "metadata": {
    "collapsed": true
   },
   "outputs": [],
   "source": [
    "sch_urls = ['https://www.reddit.com/r/schizophrenia/comments/52ravk/feeling_weirdparanoid_about_my_so/',\n",
    "            'https://www.reddit.com/r/schizophrenia/comments/52rn7m/advice_on_a_relationship_with_my_schizophrenic/',\n",
    "            'https://www.reddit.com/r/schizophrenia/comments/52px9z/just_have_a_couple_questions_longish_post/'\n",
    "           ]\n",
    "\n",
    "dep_urls = ['https://www.reddit.com/r/depression/comments/52t53u/is_there_anyone_here_who_is_about_to_write_a_text/',\n",
    "            'https://www.reddit.com/r/depression/comments/52qfqs/that_awkward_moment_when_you_wake_up_and_have_to/',\n",
    "            'https://www.reddit.com/r/depression/comments/52rwki/how_do_i_come_to_terms_with_my_belowaverage/'\n",
    "           ]"
   ]
  },
  {
   "cell_type": "code",
   "execution_count": 11,
   "metadata": {
    "collapsed": false
   },
   "outputs": [
    {
     "name": "stdout",
     "output_type": "stream",
     "text": [
      "https://www.reddit.com/r/schizophrenia/comments/52ravk/feeling_weirdparanoid_about_my_so/ 0\n",
      "https://www.reddit.com/r/schizophrenia/comments/52rn7m/advice_on_a_relationship_with_my_schizophrenic/ 0\n",
      "https://www.reddit.com/r/schizophrenia/comments/52px9z/just_have_a_couple_questions_longish_post/ 0\n",
      "https://www.reddit.com/r/schizophrenia/comments/52ravk/feeling_weirdparanoid_about_my_so/ 1\n",
      "https://www.reddit.com/r/schizophrenia/comments/52rn7m/advice_on_a_relationship_with_my_schizophrenic/ 1\n",
      "https://www.reddit.com/r/schizophrenia/comments/52px9z/just_have_a_couple_questions_longish_post/ 1\n",
      "https://www.reddit.com/r/schizophrenia/comments/52ravk/feeling_weirdparanoid_about_my_so/ 2\n",
      "https://www.reddit.com/r/schizophrenia/comments/52rn7m/advice_on_a_relationship_with_my_schizophrenic/ 2\n",
      "https://www.reddit.com/r/schizophrenia/comments/52px9z/just_have_a_couple_questions_longish_post/ 2\n",
      "https://www.reddit.com/r/schizophrenia/comments/52ravk/feeling_weirdparanoid_about_my_so/ 3\n",
      "https://www.reddit.com/r/schizophrenia/comments/52rn7m/advice_on_a_relationship_with_my_schizophrenic/ 3\n",
      "https://www.reddit.com/r/schizophrenia/comments/52px9z/just_have_a_couple_questions_longish_post/ 3\n",
      "https://www.reddit.com/r/schizophrenia/comments/52ravk/feeling_weirdparanoid_about_my_so/ 4\n",
      "https://www.reddit.com/r/schizophrenia/comments/52rn7m/advice_on_a_relationship_with_my_schizophrenic/ 4\n",
      "https://www.reddit.com/r/schizophrenia/comments/52px9z/just_have_a_couple_questions_longish_post/ 4\n",
      "https://www.reddit.com/r/schizophrenia/comments/52ravk/feeling_weirdparanoid_about_my_so/ 5\n",
      "https://www.reddit.com/r/schizophrenia/comments/52rn7m/advice_on_a_relationship_with_my_schizophrenic/ 5\n",
      "https://www.reddit.com/r/schizophrenia/comments/52px9z/just_have_a_couple_questions_longish_post/ 5\n",
      "https://www.reddit.com/r/schizophrenia/comments/52ravk/feeling_weirdparanoid_about_my_so/ 6\n",
      "https://www.reddit.com/r/schizophrenia/comments/52rn7m/advice_on_a_relationship_with_my_schizophrenic/ 6\n",
      "https://www.reddit.com/r/schizophrenia/comments/52px9z/just_have_a_couple_questions_longish_post/ 6\n",
      "https://www.reddit.com/r/schizophrenia/comments/52ravk/feeling_weirdparanoid_about_my_so/ 7\n",
      "https://www.reddit.com/r/schizophrenia/comments/52rn7m/advice_on_a_relationship_with_my_schizophrenic/ 7\n",
      "https://www.reddit.com/r/schizophrenia/comments/52px9z/just_have_a_couple_questions_longish_post/ 7\n",
      "https://www.reddit.com/r/schizophrenia/comments/52ravk/feeling_weirdparanoid_about_my_so/ 8\n",
      "https://www.reddit.com/r/schizophrenia/comments/52rn7m/advice_on_a_relationship_with_my_schizophrenic/ 8\n",
      "https://www.reddit.com/r/schizophrenia/comments/52px9z/just_have_a_couple_questions_longish_post/ 8\n"
     ]
    }
   ],
   "source": [
    "text_dep = get_comments_from_url_list(sch_urls, tag=\"usertext-body may-blank-within md-container \")"
   ]
  },
  {
   "cell_type": "code",
   "execution_count": null,
   "metadata": {
    "collapsed": false
   },
   "outputs": [],
   "source": [
    "text_sch = []\n",
    "for i in xrange(len(sch_urls)):\n",
    "    sch_urls[i]\n",
    "    comments = get_subreddit_comments(url=sch_urls[i],tag=\"usertext-body may-blank-within md-container \")\n",
    "    text_sch.extend(comments)    \n",
    "    print comments"
   ]
  },
  {
   "cell_type": "markdown",
   "metadata": {},
   "source": [
    "# Count vectors"
   ]
  },
  {
   "cell_type": "markdown",
   "metadata": {},
   "source": [
    "### Scikit's example"
   ]
  },
  {
   "cell_type": "code",
   "execution_count": 12,
   "metadata": {
    "collapsed": false
   },
   "outputs": [
    {
     "name": "stdout",
     "output_type": "stream",
     "text": [
      "From: nigel.allen@canrem.com (Nigel Allen)\n",
      "Subject: library of congress to host dead sea scroll symposium april 21-22\n",
      "Lines: 96\n",
      "(1079, 19666) 1079\n"
     ]
    }
   ],
   "source": [
    "categories = ['alt.atheism', 'soc.religion.christian']\n",
    "twenty_train = fetch_20newsgroups(subset='train',\n",
    "    categories=categories, shuffle=True, random_state=42)\n",
    "print(\"\\n\".join(twenty_train.data[0].split(\"\\n\")[:3]))\n",
    "count_vect = CountVectorizer()\n",
    "X_train_counts = count_vect.fit_transform(twenty_train.data)\n",
    "print X_train_counts.shape, len(twenty_train.data)"
   ]
  },
  {
   "cell_type": "markdown",
   "metadata": {},
   "source": [
    "### reddit result"
   ]
  },
  {
   "cell_type": "code",
   "execution_count": 55,
   "metadata": {
    "collapsed": false
   },
   "outputs": [
    {
     "data": {
      "text/plain": [
       "[0, 0]"
      ]
     },
     "execution_count": 55,
     "metadata": {},
     "output_type": "execute_result"
    }
   ],
   "source": [
    "[0]+[0]"
   ]
  },
  {
   "cell_type": "code",
   "execution_count": 57,
   "metadata": {
    "collapsed": false
   },
   "outputs": [
    {
     "data": {
      "text/plain": [
       "CountVectorizer(analyzer=u'word', binary=False, decode_error=u'strict',\n",
       "        dtype=<type 'numpy.int64'>, encoding=u'utf-8', input=u'content',\n",
       "        lowercase=True, max_df=1.0, max_features=None, min_df=1,\n",
       "        ngram_range=(1, 1), preprocessor=None, stop_words=None,\n",
       "        strip_accents=None, token_pattern=u'(?u)\\\\b\\\\w\\\\w+\\\\b',\n",
       "        tokenizer=None, vocabulary=None)"
      ]
     },
     "execution_count": 57,
     "metadata": {},
     "output_type": "execute_result"
    }
   ],
   "source": [
    "count_vect = CountVectorizer()\n",
    "count_vect.fit(text_dep+text_sch)"
   ]
  },
  {
   "cell_type": "code",
   "execution_count": 59,
   "metadata": {
    "collapsed": true
   },
   "outputs": [],
   "source": [
    "text_sch_counts = count_vect.transform(text_sch)\n",
    "text_dep_counts = count_vect.transform(text_dep)"
   ]
  },
  {
   "cell_type": "code",
   "execution_count": 60,
   "metadata": {
    "collapsed": false
   },
   "outputs": [
    {
     "data": {
      "text/plain": [
       "((47, 1418), 47, (23, 1418), 23)"
      ]
     },
     "execution_count": 60,
     "metadata": {},
     "output_type": "execute_result"
    }
   ],
   "source": [
    "text_dep_counts.shape, len(text_dep), text_sch_counts.shape, len(text_sch)"
   ]
  },
  {
   "cell_type": "markdown",
   "metadata": {},
   "source": [
    "# Frequency vectors"
   ]
  },
  {
   "cell_type": "code",
   "execution_count": 61,
   "metadata": {
    "collapsed": false
   },
   "outputs": [],
   "source": [
    "tfidf_transformer_dep = TfidfTransformer()\n",
    "dep_tfidf = tfidf_transformer_dep.fit_transform(text_dep_counts)"
   ]
  },
  {
   "cell_type": "code",
   "execution_count": 62,
   "metadata": {
    "collapsed": true
   },
   "outputs": [],
   "source": [
    "tfidf_transformer_sch = TfidfTransformer()\n",
    "sch_tfidf = tfidf_transformer_sch.fit_transform(text_sch_counts)"
   ]
  },
  {
   "cell_type": "code",
   "execution_count": 66,
   "metadata": {
    "collapsed": false
   },
   "outputs": [
    {
     "data": {
      "text/plain": [
       "((23, 1418), (47, 1418), (1418, 70))"
      ]
     },
     "execution_count": 66,
     "metadata": {},
     "output_type": "execute_result"
    }
   ],
   "source": [
    "sch_tfidf.shape, dep_tfidf.shape, np.vstack([dep_tfidf.toarray(),sch_tfidf.toarray()]).T.shape"
   ]
  },
  {
   "cell_type": "code",
   "execution_count": 26,
   "metadata": {
    "collapsed": false
   },
   "outputs": [
    {
     "data": {
      "image/png": "[encoded data removed]",
      "text/plain": [
       "<matplotlib.figure.Figure at 0x7f0acc7a8a90>"
      ]
     },
     "metadata": {},
     "output_type": "display_data"
    }
   ],
   "source": [
    "h = plt.hist(dep_tfidf.toarray().flatten(),100)\n",
    "plt.show()"
   ]
  },
  {
   "cell_type": "markdown",
   "metadata": {},
   "source": [
    "# Visualizations"
   ]
  },
  {
   "cell_type": "markdown",
   "metadata": {},
   "source": [
    "## PCA"
   ]
  },
  {
   "cell_type": "code",
   "execution_count": 74,
   "metadata": {
    "collapsed": true
   },
   "outputs": [],
   "source": [
    "pca = PCA(n_components=2)\n",
    "X = np.vstack([dep_tfidf.toarray(),sch_tfidf.toarray()])\n",
    "Y = pca.fit_transform(X)"
   ]
  },
  {
   "cell_type": "code",
   "execution_count": 75,
   "metadata": {
    "collapsed": false
   },
   "outputs": [
    {
     "data": {
      "text/plain": [
       "(70, 2)"
      ]
     },
     "execution_count": 75,
     "metadata": {},
     "output_type": "execute_result"
    }
   ],
   "source": [
    "Y.shape"
   ]
  },
  {
   "cell_type": "code",
   "execution_count": 76,
   "metadata": {
    "collapsed": false
   },
   "outputs": [
    {
     "data": {
      "text/plain": [
       "[<matplotlib.lines.Line2D at 0x7fa23418c410>]"
      ]
     },
     "execution_count": 76,
     "metadata": {},
     "output_type": "execute_result"
    },
    {
     "data": {
      "image/png": "[encoded data removed]",
      "text/plain": [
       "<matplotlib.figure.Figure at 0x7fa234337190>"
      ]
     },
     "metadata": {},
     "output_type": "display_data"
    }
   ],
   "source": [
    "n = dep_tfidf.shape[0]\n",
    "plt.plot(Y[:n,0],Y[:n,1],'o')\n",
    "plt.plot(Y[n:,0],Y[n:,1],'o')"
   ]
  },
  {
   "cell_type": "markdown",
   "metadata": {},
   "source": [
    "## t-SNE"
   ]
  },
  {
   "cell_type": "code",
   "execution_count": null,
   "metadata": {
    "collapsed": false
   },
   "outputs": [],
   "source": [
    "tsne = manifold.TSNE(n_components=2)\n",
    "Y2 = tsne.fit_transform(X)"
   ]
  }
 ],
 "metadata": {
  "kernelspec": {
   "display_name": "Python 2",
   "language": "python",
   "name": "python2"
  },
  "language_info": {
   "codemirror_mode": {
    "name": "ipython",
    "version": 2
   },
   "file_extension": ".py",
   "mimetype": "text/x-python",
   "name": "python",
   "nbconvert_exporter": "python",
   "pygments_lexer": "ipython2",
   "version": "2.7.12"
  }
 },
 "nbformat": 4,
 "nbformat_minor": 0
}
